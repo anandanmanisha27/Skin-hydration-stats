{
  "nbformat": 4,
  "nbformat_minor": 0,
  "metadata": {
    "colab": {
      "provenance": []
    },
    "kernelspec": {
      "name": "python3",
      "display_name": "Python 3"
    },
    "language_info": {
      "name": "python"
    }
  },
  "cells": [
    {
      "cell_type": "code",
      "execution_count": 1,
      "metadata": {
        "colab": {
          "base_uri": "https://localhost:8080/",
          "height": 73
        },
        "id": "_fVcr0dylhAd",
        "outputId": "c770d9db-a7d7-4cc7-814c-06055e8ad95d"
      },
      "outputs": [
        {
          "output_type": "display_data",
          "data": {
            "text/plain": [
              "<IPython.core.display.HTML object>"
            ],
            "text/html": [
              "\n",
              "     <input type=\"file\" id=\"files-e1d5a7ad-06e4-4d4e-aac8-141a0c86484c\" name=\"files[]\" multiple disabled\n",
              "        style=\"border:none\" />\n",
              "     <output id=\"result-e1d5a7ad-06e4-4d4e-aac8-141a0c86484c\">\n",
              "      Upload widget is only available when the cell has been executed in the\n",
              "      current browser session. Please rerun this cell to enable.\n",
              "      </output>\n",
              "      <script>// Copyright 2017 Google LLC\n",
              "//\n",
              "// Licensed under the Apache License, Version 2.0 (the \"License\");\n",
              "// you may not use this file except in compliance with the License.\n",
              "// You may obtain a copy of the License at\n",
              "//\n",
              "//      http://www.apache.org/licenses/LICENSE-2.0\n",
              "//\n",
              "// Unless required by applicable law or agreed to in writing, software\n",
              "// distributed under the License is distributed on an \"AS IS\" BASIS,\n",
              "// WITHOUT WARRANTIES OR CONDITIONS OF ANY KIND, either express or implied.\n",
              "// See the License for the specific language governing permissions and\n",
              "// limitations under the License.\n",
              "\n",
              "/**\n",
              " * @fileoverview Helpers for google.colab Python module.\n",
              " */\n",
              "(function(scope) {\n",
              "function span(text, styleAttributes = {}) {\n",
              "  const element = document.createElement('span');\n",
              "  element.textContent = text;\n",
              "  for (const key of Object.keys(styleAttributes)) {\n",
              "    element.style[key] = styleAttributes[key];\n",
              "  }\n",
              "  return element;\n",
              "}\n",
              "\n",
              "// Max number of bytes which will be uploaded at a time.\n",
              "const MAX_PAYLOAD_SIZE = 100 * 1024;\n",
              "\n",
              "function _uploadFiles(inputId, outputId) {\n",
              "  const steps = uploadFilesStep(inputId, outputId);\n",
              "  const outputElement = document.getElementById(outputId);\n",
              "  // Cache steps on the outputElement to make it available for the next call\n",
              "  // to uploadFilesContinue from Python.\n",
              "  outputElement.steps = steps;\n",
              "\n",
              "  return _uploadFilesContinue(outputId);\n",
              "}\n",
              "\n",
              "// This is roughly an async generator (not supported in the browser yet),\n",
              "// where there are multiple asynchronous steps and the Python side is going\n",
              "// to poll for completion of each step.\n",
              "// This uses a Promise to block the python side on completion of each step,\n",
              "// then passes the result of the previous step as the input to the next step.\n",
              "function _uploadFilesContinue(outputId) {\n",
              "  const outputElement = document.getElementById(outputId);\n",
              "  const steps = outputElement.steps;\n",
              "\n",
              "  const next = steps.next(outputElement.lastPromiseValue);\n",
              "  return Promise.resolve(next.value.promise).then((value) => {\n",
              "    // Cache the last promise value to make it available to the next\n",
              "    // step of the generator.\n",
              "    outputElement.lastPromiseValue = value;\n",
              "    return next.value.response;\n",
              "  });\n",
              "}\n",
              "\n",
              "/**\n",
              " * Generator function which is called between each async step of the upload\n",
              " * process.\n",
              " * @param {string} inputId Element ID of the input file picker element.\n",
              " * @param {string} outputId Element ID of the output display.\n",
              " * @return {!Iterable<!Object>} Iterable of next steps.\n",
              " */\n",
              "function* uploadFilesStep(inputId, outputId) {\n",
              "  const inputElement = document.getElementById(inputId);\n",
              "  inputElement.disabled = false;\n",
              "\n",
              "  const outputElement = document.getElementById(outputId);\n",
              "  outputElement.innerHTML = '';\n",
              "\n",
              "  const pickedPromise = new Promise((resolve) => {\n",
              "    inputElement.addEventListener('change', (e) => {\n",
              "      resolve(e.target.files);\n",
              "    });\n",
              "  });\n",
              "\n",
              "  const cancel = document.createElement('button');\n",
              "  inputElement.parentElement.appendChild(cancel);\n",
              "  cancel.textContent = 'Cancel upload';\n",
              "  const cancelPromise = new Promise((resolve) => {\n",
              "    cancel.onclick = () => {\n",
              "      resolve(null);\n",
              "    };\n",
              "  });\n",
              "\n",
              "  // Wait for the user to pick the files.\n",
              "  const files = yield {\n",
              "    promise: Promise.race([pickedPromise, cancelPromise]),\n",
              "    response: {\n",
              "      action: 'starting',\n",
              "    }\n",
              "  };\n",
              "\n",
              "  cancel.remove();\n",
              "\n",
              "  // Disable the input element since further picks are not allowed.\n",
              "  inputElement.disabled = true;\n",
              "\n",
              "  if (!files) {\n",
              "    return {\n",
              "      response: {\n",
              "        action: 'complete',\n",
              "      }\n",
              "    };\n",
              "  }\n",
              "\n",
              "  for (const file of files) {\n",
              "    const li = document.createElement('li');\n",
              "    li.append(span(file.name, {fontWeight: 'bold'}));\n",
              "    li.append(span(\n",
              "        `(${file.type || 'n/a'}) - ${file.size} bytes, ` +\n",
              "        `last modified: ${\n",
              "            file.lastModifiedDate ? file.lastModifiedDate.toLocaleDateString() :\n",
              "                                    'n/a'} - `));\n",
              "    const percent = span('0% done');\n",
              "    li.appendChild(percent);\n",
              "\n",
              "    outputElement.appendChild(li);\n",
              "\n",
              "    const fileDataPromise = new Promise((resolve) => {\n",
              "      const reader = new FileReader();\n",
              "      reader.onload = (e) => {\n",
              "        resolve(e.target.result);\n",
              "      };\n",
              "      reader.readAsArrayBuffer(file);\n",
              "    });\n",
              "    // Wait for the data to be ready.\n",
              "    let fileData = yield {\n",
              "      promise: fileDataPromise,\n",
              "      response: {\n",
              "        action: 'continue',\n",
              "      }\n",
              "    };\n",
              "\n",
              "    // Use a chunked sending to avoid message size limits. See b/62115660.\n",
              "    let position = 0;\n",
              "    do {\n",
              "      const length = Math.min(fileData.byteLength - position, MAX_PAYLOAD_SIZE);\n",
              "      const chunk = new Uint8Array(fileData, position, length);\n",
              "      position += length;\n",
              "\n",
              "      const base64 = btoa(String.fromCharCode.apply(null, chunk));\n",
              "      yield {\n",
              "        response: {\n",
              "          action: 'append',\n",
              "          file: file.name,\n",
              "          data: base64,\n",
              "        },\n",
              "      };\n",
              "\n",
              "      let percentDone = fileData.byteLength === 0 ?\n",
              "          100 :\n",
              "          Math.round((position / fileData.byteLength) * 100);\n",
              "      percent.textContent = `${percentDone}% done`;\n",
              "\n",
              "    } while (position < fileData.byteLength);\n",
              "  }\n",
              "\n",
              "  // All done.\n",
              "  yield {\n",
              "    response: {\n",
              "      action: 'complete',\n",
              "    }\n",
              "  };\n",
              "}\n",
              "\n",
              "scope.google = scope.google || {};\n",
              "scope.google.colab = scope.google.colab || {};\n",
              "scope.google.colab._files = {\n",
              "  _uploadFiles,\n",
              "  _uploadFilesContinue,\n",
              "};\n",
              "})(self);\n",
              "</script> "
            ]
          },
          "metadata": {}
        },
        {
          "output_type": "stream",
          "name": "stdout",
          "text": [
            "Saving balanced_skin_hydration_dataset.csv to balanced_skin_hydration_dataset.csv\n"
          ]
        }
      ],
      "source": [
        "from google.colab import files\n",
        "\n",
        "\n",
        "uploaded = files.upload()"
      ]
    },
    {
      "cell_type": "markdown",
      "source": [
        "# Hydration Prediction using Machine Learning\n",
        "\n",
        "This notebook demonstrates a mini prototype for predicting hydration status (or confidence level) using supervised learning models like **Random Forest** and **XGBoost**.  \n",
        "It includes:\n",
        "- Data preprocessing\n",
        "- Model training\n",
        "- Model comparison\n",
        "- Confidence-based hydration estimation\n"
      ],
      "metadata": {
        "id": "0bcoPUK8ms_8"
      }
    },
    {
      "cell_type": "markdown",
      "source": [
        "# Importing Libraries"
      ],
      "metadata": {
        "id": "lGWE0BsEm9Mr"
      }
    },
    {
      "cell_type": "code",
      "source": [
        "import pandas as pd\n",
        "import numpy as np\n",
        "import matplotlib.pyplot as plt\n",
        "import seaborn as sns\n",
        "\n",
        "from sklearn.model_selection import train_test_split\n",
        "from sklearn.preprocessing import StandardScaler\n",
        "from sklearn.ensemble import RandomForestClassifier\n",
        "from xgboost import XGBClassifier\n",
        "from sklearn.metrics import accuracy_score, f1_score\n"
      ],
      "metadata": {
        "id": "bzBzBlVUm2Zq"
      },
      "execution_count": 2,
      "outputs": []
    },
    {
      "cell_type": "markdown",
      "source": [
        "# Load and Inspect Dataset"
      ],
      "metadata": {
        "id": "_ZT9-iisnNv_"
      }
    },
    {
      "cell_type": "code",
      "source": [
        "df = pd.read_csv(\"balanced_skin_hydration_dataset.csv\")\n",
        "df.head()\n"
      ],
      "metadata": {
        "colab": {
          "base_uri": "https://localhost:8080/",
          "height": 226
        },
        "id": "iY55vyrunRUX",
        "outputId": "71b6272e-d077-44f3-e8c1-bb2145fd6f47"
      },
      "execution_count": 3,
      "outputs": [
        {
          "output_type": "execute_result",
          "data": {
            "text/plain": [
              "   Electrical_Capacitance    Impedance  Skin_Temperature  Skin_Conductance  \\\n",
              "0               64.636778  1232.361706         31.581387          1.075891   \n",
              "1               20.863609   842.682112         32.830364          0.839762   \n",
              "2               66.792533   695.129360         31.043204          1.285461   \n",
              "3               61.423690  1310.017872         28.501517          2.439853   \n",
              "4               73.712410  1021.357286         33.630857          0.804097   \n",
              "\n",
              "   Skin_Reflectance  Color_Metrics       TEWL  Ambient_Humidity  \\\n",
              "0          0.298884      76.217193  10.703732         65.666086   \n",
              "1          0.451885      63.045053  15.761893         77.109273   \n",
              "2          0.593685      92.414819   6.450446         77.365345   \n",
              "3          0.401341     118.895553  11.167042         40.560413   \n",
              "4          0.349651     137.365262   7.767952         60.161107   \n",
              "\n",
              "   Ambient_Temperature  Time_of_Day  Target  \n",
              "0            33.479584            1       1  \n",
              "1            32.046135            2       0  \n",
              "2            20.988382            3       1  \n",
              "3            33.162339            3       0  \n",
              "4            23.322403            2       1  "
            ],
            "text/html": [
              "\n",
              "  <div id=\"df-ea05bec6-a26e-403d-a9f7-820c743cfb14\" class=\"colab-df-container\">\n",
              "    <div>\n",
              "<style scoped>\n",
              "    .dataframe tbody tr th:only-of-type {\n",
              "        vertical-align: middle;\n",
              "    }\n",
              "\n",
              "    .dataframe tbody tr th {\n",
              "        vertical-align: top;\n",
              "    }\n",
              "\n",
              "    .dataframe thead th {\n",
              "        text-align: right;\n",
              "    }\n",
              "</style>\n",
              "<table border=\"1\" class=\"dataframe\">\n",
              "  <thead>\n",
              "    <tr style=\"text-align: right;\">\n",
              "      <th></th>\n",
              "      <th>Electrical_Capacitance</th>\n",
              "      <th>Impedance</th>\n",
              "      <th>Skin_Temperature</th>\n",
              "      <th>Skin_Conductance</th>\n",
              "      <th>Skin_Reflectance</th>\n",
              "      <th>Color_Metrics</th>\n",
              "      <th>TEWL</th>\n",
              "      <th>Ambient_Humidity</th>\n",
              "      <th>Ambient_Temperature</th>\n",
              "      <th>Time_of_Day</th>\n",
              "      <th>Target</th>\n",
              "    </tr>\n",
              "  </thead>\n",
              "  <tbody>\n",
              "    <tr>\n",
              "      <th>0</th>\n",
              "      <td>64.636778</td>\n",
              "      <td>1232.361706</td>\n",
              "      <td>31.581387</td>\n",
              "      <td>1.075891</td>\n",
              "      <td>0.298884</td>\n",
              "      <td>76.217193</td>\n",
              "      <td>10.703732</td>\n",
              "      <td>65.666086</td>\n",
              "      <td>33.479584</td>\n",
              "      <td>1</td>\n",
              "      <td>1</td>\n",
              "    </tr>\n",
              "    <tr>\n",
              "      <th>1</th>\n",
              "      <td>20.863609</td>\n",
              "      <td>842.682112</td>\n",
              "      <td>32.830364</td>\n",
              "      <td>0.839762</td>\n",
              "      <td>0.451885</td>\n",
              "      <td>63.045053</td>\n",
              "      <td>15.761893</td>\n",
              "      <td>77.109273</td>\n",
              "      <td>32.046135</td>\n",
              "      <td>2</td>\n",
              "      <td>0</td>\n",
              "    </tr>\n",
              "    <tr>\n",
              "      <th>2</th>\n",
              "      <td>66.792533</td>\n",
              "      <td>695.129360</td>\n",
              "      <td>31.043204</td>\n",
              "      <td>1.285461</td>\n",
              "      <td>0.593685</td>\n",
              "      <td>92.414819</td>\n",
              "      <td>6.450446</td>\n",
              "      <td>77.365345</td>\n",
              "      <td>20.988382</td>\n",
              "      <td>3</td>\n",
              "      <td>1</td>\n",
              "    </tr>\n",
              "    <tr>\n",
              "      <th>3</th>\n",
              "      <td>61.423690</td>\n",
              "      <td>1310.017872</td>\n",
              "      <td>28.501517</td>\n",
              "      <td>2.439853</td>\n",
              "      <td>0.401341</td>\n",
              "      <td>118.895553</td>\n",
              "      <td>11.167042</td>\n",
              "      <td>40.560413</td>\n",
              "      <td>33.162339</td>\n",
              "      <td>3</td>\n",
              "      <td>0</td>\n",
              "    </tr>\n",
              "    <tr>\n",
              "      <th>4</th>\n",
              "      <td>73.712410</td>\n",
              "      <td>1021.357286</td>\n",
              "      <td>33.630857</td>\n",
              "      <td>0.804097</td>\n",
              "      <td>0.349651</td>\n",
              "      <td>137.365262</td>\n",
              "      <td>7.767952</td>\n",
              "      <td>60.161107</td>\n",
              "      <td>23.322403</td>\n",
              "      <td>2</td>\n",
              "      <td>1</td>\n",
              "    </tr>\n",
              "  </tbody>\n",
              "</table>\n",
              "</div>\n",
              "    <div class=\"colab-df-buttons\">\n",
              "\n",
              "  <div class=\"colab-df-container\">\n",
              "    <button class=\"colab-df-convert\" onclick=\"convertToInteractive('df-ea05bec6-a26e-403d-a9f7-820c743cfb14')\"\n",
              "            title=\"Convert this dataframe to an interactive table.\"\n",
              "            style=\"display:none;\">\n",
              "\n",
              "  <svg xmlns=\"http://www.w3.org/2000/svg\" height=\"24px\" viewBox=\"0 -960 960 960\">\n",
              "    <path d=\"M120-120v-720h720v720H120Zm60-500h600v-160H180v160Zm220 220h160v-160H400v160Zm0 220h160v-160H400v160ZM180-400h160v-160H180v160Zm440 0h160v-160H620v160ZM180-180h160v-160H180v160Zm440 0h160v-160H620v160Z\"/>\n",
              "  </svg>\n",
              "    </button>\n",
              "\n",
              "  <style>\n",
              "    .colab-df-container {\n",
              "      display:flex;\n",
              "      gap: 12px;\n",
              "    }\n",
              "\n",
              "    .colab-df-convert {\n",
              "      background-color: #E8F0FE;\n",
              "      border: none;\n",
              "      border-radius: 50%;\n",
              "      cursor: pointer;\n",
              "      display: none;\n",
              "      fill: #1967D2;\n",
              "      height: 32px;\n",
              "      padding: 0 0 0 0;\n",
              "      width: 32px;\n",
              "    }\n",
              "\n",
              "    .colab-df-convert:hover {\n",
              "      background-color: #E2EBFA;\n",
              "      box-shadow: 0px 1px 2px rgba(60, 64, 67, 0.3), 0px 1px 3px 1px rgba(60, 64, 67, 0.15);\n",
              "      fill: #174EA6;\n",
              "    }\n",
              "\n",
              "    .colab-df-buttons div {\n",
              "      margin-bottom: 4px;\n",
              "    }\n",
              "\n",
              "    [theme=dark] .colab-df-convert {\n",
              "      background-color: #3B4455;\n",
              "      fill: #D2E3FC;\n",
              "    }\n",
              "\n",
              "    [theme=dark] .colab-df-convert:hover {\n",
              "      background-color: #434B5C;\n",
              "      box-shadow: 0px 1px 3px 1px rgba(0, 0, 0, 0.15);\n",
              "      filter: drop-shadow(0px 1px 2px rgba(0, 0, 0, 0.3));\n",
              "      fill: #FFFFFF;\n",
              "    }\n",
              "  </style>\n",
              "\n",
              "    <script>\n",
              "      const buttonEl =\n",
              "        document.querySelector('#df-ea05bec6-a26e-403d-a9f7-820c743cfb14 button.colab-df-convert');\n",
              "      buttonEl.style.display =\n",
              "        google.colab.kernel.accessAllowed ? 'block' : 'none';\n",
              "\n",
              "      async function convertToInteractive(key) {\n",
              "        const element = document.querySelector('#df-ea05bec6-a26e-403d-a9f7-820c743cfb14');\n",
              "        const dataTable =\n",
              "          await google.colab.kernel.invokeFunction('convertToInteractive',\n",
              "                                                    [key], {});\n",
              "        if (!dataTable) return;\n",
              "\n",
              "        const docLinkHtml = 'Like what you see? Visit the ' +\n",
              "          '<a target=\"_blank\" href=https://colab.research.google.com/notebooks/data_table.ipynb>data table notebook</a>'\n",
              "          + ' to learn more about interactive tables.';\n",
              "        element.innerHTML = '';\n",
              "        dataTable['output_type'] = 'display_data';\n",
              "        await google.colab.output.renderOutput(dataTable, element);\n",
              "        const docLink = document.createElement('div');\n",
              "        docLink.innerHTML = docLinkHtml;\n",
              "        element.appendChild(docLink);\n",
              "      }\n",
              "    </script>\n",
              "  </div>\n",
              "\n",
              "\n",
              "    <div id=\"df-a277a0f5-94ec-4f53-829e-623111b5b284\">\n",
              "      <button class=\"colab-df-quickchart\" onclick=\"quickchart('df-a277a0f5-94ec-4f53-829e-623111b5b284')\"\n",
              "                title=\"Suggest charts\"\n",
              "                style=\"display:none;\">\n",
              "\n",
              "<svg xmlns=\"http://www.w3.org/2000/svg\" height=\"24px\"viewBox=\"0 0 24 24\"\n",
              "     width=\"24px\">\n",
              "    <g>\n",
              "        <path d=\"M19 3H5c-1.1 0-2 .9-2 2v14c0 1.1.9 2 2 2h14c1.1 0 2-.9 2-2V5c0-1.1-.9-2-2-2zM9 17H7v-7h2v7zm4 0h-2V7h2v10zm4 0h-2v-4h2v4z\"/>\n",
              "    </g>\n",
              "</svg>\n",
              "      </button>\n",
              "\n",
              "<style>\n",
              "  .colab-df-quickchart {\n",
              "      --bg-color: #E8F0FE;\n",
              "      --fill-color: #1967D2;\n",
              "      --hover-bg-color: #E2EBFA;\n",
              "      --hover-fill-color: #174EA6;\n",
              "      --disabled-fill-color: #AAA;\n",
              "      --disabled-bg-color: #DDD;\n",
              "  }\n",
              "\n",
              "  [theme=dark] .colab-df-quickchart {\n",
              "      --bg-color: #3B4455;\n",
              "      --fill-color: #D2E3FC;\n",
              "      --hover-bg-color: #434B5C;\n",
              "      --hover-fill-color: #FFFFFF;\n",
              "      --disabled-bg-color: #3B4455;\n",
              "      --disabled-fill-color: #666;\n",
              "  }\n",
              "\n",
              "  .colab-df-quickchart {\n",
              "    background-color: var(--bg-color);\n",
              "    border: none;\n",
              "    border-radius: 50%;\n",
              "    cursor: pointer;\n",
              "    display: none;\n",
              "    fill: var(--fill-color);\n",
              "    height: 32px;\n",
              "    padding: 0;\n",
              "    width: 32px;\n",
              "  }\n",
              "\n",
              "  .colab-df-quickchart:hover {\n",
              "    background-color: var(--hover-bg-color);\n",
              "    box-shadow: 0 1px 2px rgba(60, 64, 67, 0.3), 0 1px 3px 1px rgba(60, 64, 67, 0.15);\n",
              "    fill: var(--button-hover-fill-color);\n",
              "  }\n",
              "\n",
              "  .colab-df-quickchart-complete:disabled,\n",
              "  .colab-df-quickchart-complete:disabled:hover {\n",
              "    background-color: var(--disabled-bg-color);\n",
              "    fill: var(--disabled-fill-color);\n",
              "    box-shadow: none;\n",
              "  }\n",
              "\n",
              "  .colab-df-spinner {\n",
              "    border: 2px solid var(--fill-color);\n",
              "    border-color: transparent;\n",
              "    border-bottom-color: var(--fill-color);\n",
              "    animation:\n",
              "      spin 1s steps(1) infinite;\n",
              "  }\n",
              "\n",
              "  @keyframes spin {\n",
              "    0% {\n",
              "      border-color: transparent;\n",
              "      border-bottom-color: var(--fill-color);\n",
              "      border-left-color: var(--fill-color);\n",
              "    }\n",
              "    20% {\n",
              "      border-color: transparent;\n",
              "      border-left-color: var(--fill-color);\n",
              "      border-top-color: var(--fill-color);\n",
              "    }\n",
              "    30% {\n",
              "      border-color: transparent;\n",
              "      border-left-color: var(--fill-color);\n",
              "      border-top-color: var(--fill-color);\n",
              "      border-right-color: var(--fill-color);\n",
              "    }\n",
              "    40% {\n",
              "      border-color: transparent;\n",
              "      border-right-color: var(--fill-color);\n",
              "      border-top-color: var(--fill-color);\n",
              "    }\n",
              "    60% {\n",
              "      border-color: transparent;\n",
              "      border-right-color: var(--fill-color);\n",
              "    }\n",
              "    80% {\n",
              "      border-color: transparent;\n",
              "      border-right-color: var(--fill-color);\n",
              "      border-bottom-color: var(--fill-color);\n",
              "    }\n",
              "    90% {\n",
              "      border-color: transparent;\n",
              "      border-bottom-color: var(--fill-color);\n",
              "    }\n",
              "  }\n",
              "</style>\n",
              "\n",
              "      <script>\n",
              "        async function quickchart(key) {\n",
              "          const quickchartButtonEl =\n",
              "            document.querySelector('#' + key + ' button');\n",
              "          quickchartButtonEl.disabled = true;  // To prevent multiple clicks.\n",
              "          quickchartButtonEl.classList.add('colab-df-spinner');\n",
              "          try {\n",
              "            const charts = await google.colab.kernel.invokeFunction(\n",
              "                'suggestCharts', [key], {});\n",
              "          } catch (error) {\n",
              "            console.error('Error during call to suggestCharts:', error);\n",
              "          }\n",
              "          quickchartButtonEl.classList.remove('colab-df-spinner');\n",
              "          quickchartButtonEl.classList.add('colab-df-quickchart-complete');\n",
              "        }\n",
              "        (() => {\n",
              "          let quickchartButtonEl =\n",
              "            document.querySelector('#df-a277a0f5-94ec-4f53-829e-623111b5b284 button');\n",
              "          quickchartButtonEl.style.display =\n",
              "            google.colab.kernel.accessAllowed ? 'block' : 'none';\n",
              "        })();\n",
              "      </script>\n",
              "    </div>\n",
              "\n",
              "    </div>\n",
              "  </div>\n"
            ],
            "application/vnd.google.colaboratory.intrinsic+json": {
              "type": "dataframe",
              "variable_name": "df",
              "summary": "{\n  \"name\": \"df\",\n  \"rows\": 290,\n  \"fields\": [\n    {\n      \"column\": \"Electrical_Capacitance\",\n      \"properties\": {\n        \"dtype\": \"number\",\n        \"std\": 16.312560714031004,\n        \"min\": 20.27792138027617,\n        \"max\": 79.81245511075684,\n        \"num_unique_values\": 290,\n        \"samples\": [\n          55.44999563414065,\n          21.23506965774815,\n          68.50384088698766\n        ],\n        \"semantic_type\": \"\",\n        \"description\": \"\"\n      }\n    },\n    {\n      \"column\": \"Impedance\",\n      \"properties\": {\n        \"dtype\": \"number\",\n        \"std\": 431.5592847502258,\n        \"min\": 507.4099714016144,\n        \"max\": 1995.0452807794647,\n        \"num_unique_values\": 290,\n        \"samples\": [\n          617.8677457325311,\n          831.8141627294033,\n          1544.4331638172096\n        ],\n        \"semantic_type\": \"\",\n        \"description\": \"\"\n      }\n    },\n    {\n      \"column\": \"Skin_Temperature\",\n      \"properties\": {\n        \"dtype\": \"number\",\n        \"std\": 2.388885481806917,\n        \"min\": 28.001077544035883,\n        \"max\": 35.95855435172761,\n        \"num_unique_values\": 290,\n        \"samples\": [\n          29.56878170190714,\n          28.26890880146626,\n          30.796050976694552\n        ],\n        \"semantic_type\": \"\",\n        \"description\": \"\"\n      }\n    },\n    {\n      \"column\": \"Skin_Conductance\",\n      \"properties\": {\n        \"dtype\": \"number\",\n        \"std\": 0.5679603384598265,\n        \"min\": 0.5039842704381405,\n        \"max\": 2.497785224066581,\n        \"num_unique_values\": 290,\n        \"samples\": [\n          0.9069454849951916,\n          1.5977173301547118,\n          1.0526382169317072\n        ],\n        \"semantic_type\": \"\",\n        \"description\": \"\"\n      }\n    },\n    {\n      \"column\": \"Skin_Reflectance\",\n      \"properties\": {\n        \"dtype\": \"number\",\n        \"std\": 0.2258412392955989,\n        \"min\": 0.1008896753569499,\n        \"max\": 0.8965875616410585,\n        \"num_unique_values\": 290,\n        \"samples\": [\n          0.7424095052210564,\n          0.1277381633808531,\n          0.8907367951707849\n        ],\n        \"semantic_type\": \"\",\n        \"description\": \"\"\n      }\n    },\n    {\n      \"column\": \"Color_Metrics\",\n      \"properties\": {\n        \"dtype\": \"number\",\n        \"std\": 43.86675042439237,\n        \"min\": 51.063771916155645,\n        \"max\": 198.1052708,\n        \"num_unique_values\": 290,\n        \"samples\": [\n          158.06851121941344,\n          74.82496619954834,\n          106.96061072324731\n        ],\n        \"semantic_type\": \"\",\n        \"description\": \"\"\n      }\n    },\n    {\n      \"column\": \"TEWL\",\n      \"properties\": {\n        \"dtype\": \"number\",\n        \"std\": 5.273059319453961,\n        \"min\": 5.0731262268929855,\n        \"max\": 24.971216131712573,\n        \"num_unique_values\": 290,\n        \"samples\": [\n          14.04430200203436,\n          21.07386903754605,\n          9.713650692\n        ],\n        \"semantic_type\": \"\",\n        \"description\": \"\"\n      }\n    },\n    {\n      \"column\": \"Ambient_Humidity\",\n      \"properties\": {\n        \"dtype\": \"number\",\n        \"std\": 13.117868018068323,\n        \"min\": 30.458277509190825,\n        \"max\": 79.60460935144101,\n        \"num_unique_values\": 290,\n        \"samples\": [\n          72.12320534177876,\n          42.52414733748817,\n          71.80593077725213\n        ],\n        \"semantic_type\": \"\",\n        \"description\": \"\"\n      }\n    },\n    {\n      \"column\": \"Ambient_Temperature\",\n      \"properties\": {\n        \"dtype\": \"number\",\n        \"std\": 4.221343815572575,\n        \"min\": 20.055794912270887,\n        \"max\": 34.89745608400217,\n        \"num_unique_values\": 290,\n        \"samples\": [\n          27.65589082,\n          32.591120564139075,\n          21.484529351130604\n        ],\n        \"semantic_type\": \"\",\n        \"description\": \"\"\n      }\n    },\n    {\n      \"column\": \"Time_of_Day\",\n      \"properties\": {\n        \"dtype\": \"number\",\n        \"std\": 0,\n        \"min\": 1,\n        \"max\": 3,\n        \"num_unique_values\": 3,\n        \"samples\": [\n          1,\n          2,\n          3\n        ],\n        \"semantic_type\": \"\",\n        \"description\": \"\"\n      }\n    },\n    {\n      \"column\": \"Target\",\n      \"properties\": {\n        \"dtype\": \"number\",\n        \"std\": 0,\n        \"min\": 0,\n        \"max\": 1,\n        \"num_unique_values\": 2,\n        \"samples\": [\n          0,\n          1\n        ],\n        \"semantic_type\": \"\",\n        \"description\": \"\"\n      }\n    }\n  ]\n}"
            }
          },
          "metadata": {},
          "execution_count": 3
        }
      ]
    },
    {
      "cell_type": "markdown",
      "source": [
        "# Preprocessing"
      ],
      "metadata": {
        "id": "5lv_o1kVncvU"
      }
    },
    {
      "cell_type": "code",
      "source": [
        "X = df.drop(\"Target\", axis=1)\n",
        "y = df[\"Target\"]\n",
        "\n",
        "scaler = StandardScaler()\n",
        "X_scaled = scaler.fit_transform(X)\n",
        "\n",
        "X_train, X_test, y_train, y_test = train_test_split(X_scaled, y, test_size=0.2, random_state=42)\n"
      ],
      "metadata": {
        "id": "4acfGD3Lngn_"
      },
      "execution_count": 4,
      "outputs": []
    },
    {
      "cell_type": "markdown",
      "source": [
        "# Model Training & Evaluation"
      ],
      "metadata": {
        "id": "6VEWUtPknknd"
      }
    },
    {
      "cell_type": "code",
      "source": [
        "# Random Forest\n",
        "rf_model = RandomForestClassifier(n_estimators=100, random_state=42)\n",
        "rf_model.fit(X_train, y_train)\n",
        "y_pred_rf = rf_model.predict(X_test)\n",
        "rf_acc = accuracy_score(y_test, y_pred_rf)\n",
        "rf_f1 = f1_score(y_test, y_pred_rf)\n",
        "\n",
        "\n",
        "# XGBoost\n",
        "xgb_model = XGBClassifier(use_label_encoder=False, eval_metric='logloss', random_state=42)\n",
        "xgb_model.fit(X_train, y_train)\n",
        "y_pred_xgb = xgb_model.predict(X_test)\n",
        "xgb_acc = accuracy_score(y_test, y_pred_xgb)\n",
        "xgb_f1 = f1_score(y_test, y_pred_xgb)"
      ],
      "metadata": {
        "colab": {
          "base_uri": "https://localhost:8080/"
        },
        "id": "1lwdnSeNnqIl",
        "outputId": "24b6834f-10a7-401c-f24e-b70541c088cf"
      },
      "execution_count": 6,
      "outputs": [
        {
          "output_type": "stream",
          "name": "stdout",
          "text": [
            "Random Forest\n",
            "1.0\n",
            "1.0\n",
            "XGB\n",
            "1.0\n",
            "1.0\n"
          ]
        },
        {
          "output_type": "stream",
          "name": "stderr",
          "text": [
            "/usr/local/lib/python3.11/dist-packages/xgboost/core.py:158: UserWarning: [17:39:14] WARNING: /workspace/src/learner.cc:740: \n",
            "Parameters: { \"use_label_encoder\" } are not used.\n",
            "\n",
            "  warnings.warn(smsg, UserWarning)\n"
          ]
        }
      ]
    },
    {
      "cell_type": "markdown",
      "source": [
        "# Model Comparison"
      ],
      "metadata": {
        "id": "wbYwSOlenwLH"
      }
    },
    {
      "cell_type": "code",
      "source": [
        "print(f\"Random Forest - Accuracy: {rf_acc:.4f}, F1: {rf_f1:.4f}\")\n",
        "print(f\"XGBoost       - Accuracy: {xgb_acc:.4f}, F1: {xgb_f1:.4f}\")\n",
        "\n",
        "best_model = rf_model if rf_f1 >= xgb_f1 else xgb_model\n",
        "best_model_name = \"Random Forest\" if rf_f1 >= xgb_f1 else \"XGBoost\"\n"
      ],
      "metadata": {
        "colab": {
          "base_uri": "https://localhost:8080/"
        },
        "id": "g_pAV1VEn1oG",
        "outputId": "9cd23675-323e-463d-c842-82611a87af19"
      },
      "execution_count": 7,
      "outputs": [
        {
          "output_type": "stream",
          "name": "stdout",
          "text": [
            "Random Forest - Accuracy: 1.0000, F1: 1.0000\n",
            "XGBoost       - Accuracy: 1.0000, F1: 1.0000\n"
          ]
        }
      ]
    },
    {
      "cell_type": "markdown",
      "source": [
        "# Feature Importance Plot"
      ],
      "metadata": {
        "id": "rbR3dzCJod32"
      }
    },
    {
      "cell_type": "code",
      "source": [
        "importances = best_model.feature_importances_\n",
        "feature_names = df.columns[:-1]\n",
        "\n",
        "plt.figure(figsize=(10, 6))\n",
        "sns.barplot(x=importances, y=feature_names)\n",
        "plt.title(f\"Feature Importance - {best_model_name}\")\n",
        "plt.show()\n"
      ],
      "metadata": {
        "colab": {
          "base_uri": "https://localhost:8080/",
          "height": 479
        },
        "id": "yOje4pqNojky",
        "outputId": "6de72ffd-3ab2-4f45-a9d7-e3b97c6ce80b"
      },
      "execution_count": 8,
      "outputs": [
        {
          "output_type": "display_data",
          "data": {
            "text/plain": [
              "<Figure size 1000x600 with 1 Axes>"
            ],
            "image/png": "[encoded data removed]"
          },
          "metadata": {}
        }
      ]
    },
    {
      "cell_type": "markdown",
      "source": [
        "# Train vs Test Target Distribution"
      ],
      "metadata": {
        "id": "mhN6-RJfonez"
      }
    },
    {
      "cell_type": "code",
      "source": [
        "train_counts = y_train.value_counts().sort_index()\n",
        "test_counts = y_test.value_counts().sort_index()\n",
        "\n",
        "bar_width = 0.35\n",
        "index = np.arange(len(train_counts))\n",
        "\n",
        "plt.figure(figsize=(8, 5))\n",
        "plt.bar(index, train_counts, bar_width, label='Train', color='blue')\n",
        "plt.bar(index + bar_width, test_counts, bar_width, label='Test', color='orange')\n",
        "plt.xlabel('Target')\n",
        "plt.ylabel('Count')\n",
        "plt.title('Target Class Count: Train vs Test')\n",
        "plt.xticks(index + bar_width / 2, train_counts.index)\n",
        "plt.legend()\n",
        "plt.tight_layout()\n",
        "plt.show()\n"
      ],
      "metadata": {
        "colab": {
          "base_uri": "https://localhost:8080/",
          "height": 507
        },
        "id": "n39tMHlfosag",
        "outputId": "b0da96f6-a7d4-41f5-d335-9d1b500866d9"
      },
      "execution_count": 9,
      "outputs": [
        {
          "output_type": "display_data",
          "data": {
            "text/plain": [
              "<Figure size 800x500 with 1 Axes>"
            ],
            "image/png": "[encoded data removed]"
          },
          "metadata": {}
        }
      ]
    },
    {
      "cell_type": "markdown",
      "source": [
        "# Manual Sample Prediction"
      ],
      "metadata": {
        "id": "5JGw7sd6ozvi"
      }
    },
    {
      "cell_type": "code",
      "source": [
        "### Manual Input Prediction Example\n",
        "# Create a manual sample (make sure to match the number and order of features)\n",
        "man_sample = pd.DataFrame([{\n",
        "    feature_names[0]: 0.65,\n",
        "    feature_names[1]: 0.45,\n",
        "    feature_names[2]: 0.55,\n",
        "    feature_names[3]: 0.50,\n",
        "    feature_names[4]: 0.75,\n",
        "    feature_names[5]: 0.62,\n",
        "    feature_names[6]: 0.48,\n",
        "    feature_names[7]: 0.33,\n",
        "    feature_names[8]: 0.80,\n",
        "    feature_names[9]: 0.70\n",
        "}])\n",
        "\n",
        "man_sample_scaled = scaler.transform(man_sample)\n",
        "\n",
        "prediction = best_model.predict(man_sample_scaled)[0]\n",
        "\n",
        "status = \"Hydrated\" if prediction == 1 else \"Not Hydrated\"\n",
        "print(f\"\\nManual Sample Prediction: {status} (Class = {prediction})\")\n",
        "\n"
      ],
      "metadata": {
        "colab": {
          "base_uri": "https://localhost:8080/"
        },
        "id": "7j4CsSiUo23k",
        "outputId": "4a3eb31e-0799-4d50-e640-50d232e7f602"
      },
      "execution_count": 12,
      "outputs": [
        {
          "output_type": "stream",
          "name": "stdout",
          "text": [
            "\n",
            "Manual Sample Prediction: Not Hydrated (Class = 0)\n"
          ]
        }
      ]
    }
  ]
}